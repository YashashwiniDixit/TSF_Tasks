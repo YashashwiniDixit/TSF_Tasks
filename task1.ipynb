{
  "nbformat": 4,
  "nbformat_minor": 0,
  "metadata": {
    "colab": {
      "name": "task1.ipynb",
      "provenance": [],
      "authorship_tag": "ABX9TyM2+umamCA1XvR5H9efYezn",
      "include_colab_link": true
    },
    "kernelspec": {
      "name": "python3",
      "display_name": "Python 3"
    },
    "language_info": {
      "name": "python"
    }
  },
  "cells": [
    {
      "cell_type": "markdown",
      "metadata": {
        "id": "view-in-github",
        "colab_type": "text"
      },
      "source": [
        "<a href=\"https://colab.research.google.com/github/YashashwiniDixit/TSF_Tasks/blob/main/task1.ipynb\" target=\"_parent\"><img src=\"https://colab.research.google.com/assets/colab-badge.svg\" alt=\"Open In Colab\"/></a>"
      ]
    },
    {
      "cell_type": "markdown",
      "metadata": {
        "id": "E9ylyIj-F_8V"
      },
      "source": [
        "# **YASHASWINI DIXIT**\n",
        "# Task #1: *Prediction using Supervised ML*\n",
        "Data can be found at [**here**](https://raw.githubusercontent.com/AdiPersonalWorks/Random/master/student_scores%20-%20student_scores.csv)\n",
        "\n"
      ]
    },
    {
      "cell_type": "markdown",
      "metadata": {
        "id": "Ra98gG7LHACu"
      },
      "source": [
        "# Collecting Data"
      ]
    },
    {
      "cell_type": "code",
      "metadata": {
        "id": "V8uRGzgSGILx"
      },
      "source": [
        "# import libraries\n",
        "import pandas as pd\n",
        "import matplotlib.pyplot as plt\n",
        "%matplotlib inline\n",
        "import seaborn as sns"
      ],
      "execution_count": 7,
      "outputs": []
    },
    {
      "cell_type": "code",
      "metadata": {
        "id": "skk0MYLlHEmt"
      },
      "source": [
        "# create dataframe \n",
        "df = pd.read_csv('https://raw.githubusercontent.com/AdiPersonalWorks/Random/master/student_scores%20-%20student_scores.csv')"
      ],
      "execution_count": 8,
      "outputs": []
    },
    {
      "cell_type": "code",
      "metadata": {
        "colab": {
          "base_uri": "https://localhost:8080/",
          "height": 815
        },
        "id": "F11l_7hhHKr8",
        "outputId": "ea7e9279-a804-4dbf-ac34-3a61e511429a"
      },
      "source": [
        "df"
      ],
      "execution_count": 9,
      "outputs": [
        {
          "output_type": "execute_result",
          "data": {
            "text/html": [
              "<div>\n",
              "<style scoped>\n",
              "    .dataframe tbody tr th:only-of-type {\n",
              "        vertical-align: middle;\n",
              "    }\n",
              "\n",
              "    .dataframe tbody tr th {\n",
              "        vertical-align: top;\n",
              "    }\n",
              "\n",
              "    .dataframe thead th {\n",
              "        text-align: right;\n",
              "    }\n",
              "</style>\n",
              "<table border=\"1\" class=\"dataframe\">\n",
              "  <thead>\n",
              "    <tr style=\"text-align: right;\">\n",
              "      <th></th>\n",
              "      <th>Hours</th>\n",
              "      <th>Scores</th>\n",
              "    </tr>\n",
              "  </thead>\n",
              "  <tbody>\n",
              "    <tr>\n",
              "      <th>0</th>\n",
              "      <td>2.5</td>\n",
              "      <td>21</td>\n",
              "    </tr>\n",
              "    <tr>\n",
              "      <th>1</th>\n",
              "      <td>5.1</td>\n",
              "      <td>47</td>\n",
              "    </tr>\n",
              "    <tr>\n",
              "      <th>2</th>\n",
              "      <td>3.2</td>\n",
              "      <td>27</td>\n",
              "    </tr>\n",
              "    <tr>\n",
              "      <th>3</th>\n",
              "      <td>8.5</td>\n",
              "      <td>75</td>\n",
              "    </tr>\n",
              "    <tr>\n",
              "      <th>4</th>\n",
              "      <td>3.5</td>\n",
              "      <td>30</td>\n",
              "    </tr>\n",
              "    <tr>\n",
              "      <th>5</th>\n",
              "      <td>1.5</td>\n",
              "      <td>20</td>\n",
              "    </tr>\n",
              "    <tr>\n",
              "      <th>6</th>\n",
              "      <td>9.2</td>\n",
              "      <td>88</td>\n",
              "    </tr>\n",
              "    <tr>\n",
              "      <th>7</th>\n",
              "      <td>5.5</td>\n",
              "      <td>60</td>\n",
              "    </tr>\n",
              "    <tr>\n",
              "      <th>8</th>\n",
              "      <td>8.3</td>\n",
              "      <td>81</td>\n",
              "    </tr>\n",
              "    <tr>\n",
              "      <th>9</th>\n",
              "      <td>2.7</td>\n",
              "      <td>25</td>\n",
              "    </tr>\n",
              "    <tr>\n",
              "      <th>10</th>\n",
              "      <td>7.7</td>\n",
              "      <td>85</td>\n",
              "    </tr>\n",
              "    <tr>\n",
              "      <th>11</th>\n",
              "      <td>5.9</td>\n",
              "      <td>62</td>\n",
              "    </tr>\n",
              "    <tr>\n",
              "      <th>12</th>\n",
              "      <td>4.5</td>\n",
              "      <td>41</td>\n",
              "    </tr>\n",
              "    <tr>\n",
              "      <th>13</th>\n",
              "      <td>3.3</td>\n",
              "      <td>42</td>\n",
              "    </tr>\n",
              "    <tr>\n",
              "      <th>14</th>\n",
              "      <td>1.1</td>\n",
              "      <td>17</td>\n",
              "    </tr>\n",
              "    <tr>\n",
              "      <th>15</th>\n",
              "      <td>8.9</td>\n",
              "      <td>95</td>\n",
              "    </tr>\n",
              "    <tr>\n",
              "      <th>16</th>\n",
              "      <td>2.5</td>\n",
              "      <td>30</td>\n",
              "    </tr>\n",
              "    <tr>\n",
              "      <th>17</th>\n",
              "      <td>1.9</td>\n",
              "      <td>24</td>\n",
              "    </tr>\n",
              "    <tr>\n",
              "      <th>18</th>\n",
              "      <td>6.1</td>\n",
              "      <td>67</td>\n",
              "    </tr>\n",
              "    <tr>\n",
              "      <th>19</th>\n",
              "      <td>7.4</td>\n",
              "      <td>69</td>\n",
              "    </tr>\n",
              "    <tr>\n",
              "      <th>20</th>\n",
              "      <td>2.7</td>\n",
              "      <td>30</td>\n",
              "    </tr>\n",
              "    <tr>\n",
              "      <th>21</th>\n",
              "      <td>4.8</td>\n",
              "      <td>54</td>\n",
              "    </tr>\n",
              "    <tr>\n",
              "      <th>22</th>\n",
              "      <td>3.8</td>\n",
              "      <td>35</td>\n",
              "    </tr>\n",
              "    <tr>\n",
              "      <th>23</th>\n",
              "      <td>6.9</td>\n",
              "      <td>76</td>\n",
              "    </tr>\n",
              "    <tr>\n",
              "      <th>24</th>\n",
              "      <td>7.8</td>\n",
              "      <td>86</td>\n",
              "    </tr>\n",
              "  </tbody>\n",
              "</table>\n",
              "</div>"
            ],
            "text/plain": [
              "    Hours  Scores\n",
              "0     2.5      21\n",
              "1     5.1      47\n",
              "2     3.2      27\n",
              "3     8.5      75\n",
              "4     3.5      30\n",
              "5     1.5      20\n",
              "6     9.2      88\n",
              "7     5.5      60\n",
              "8     8.3      81\n",
              "9     2.7      25\n",
              "10    7.7      85\n",
              "11    5.9      62\n",
              "12    4.5      41\n",
              "13    3.3      42\n",
              "14    1.1      17\n",
              "15    8.9      95\n",
              "16    2.5      30\n",
              "17    1.9      24\n",
              "18    6.1      67\n",
              "19    7.4      69\n",
              "20    2.7      30\n",
              "21    4.8      54\n",
              "22    3.8      35\n",
              "23    6.9      76\n",
              "24    7.8      86"
            ]
          },
          "metadata": {
            "tags": []
          },
          "execution_count": 9
        }
      ]
    },
    {
      "cell_type": "code",
      "metadata": {
        "colab": {
          "base_uri": "https://localhost:8080/",
          "height": 202
        },
        "id": "vwoOb5m2HTC3",
        "outputId": "f21ab961-009e-4113-baba-8f895b6d8103"
      },
      "source": [
        "# to see top 5 rows\n",
        "df.head()"
      ],
      "execution_count": 10,
      "outputs": [
        {
          "output_type": "execute_result",
          "data": {
            "text/html": [
              "<div>\n",
              "<style scoped>\n",
              "    .dataframe tbody tr th:only-of-type {\n",
              "        vertical-align: middle;\n",
              "    }\n",
              "\n",
              "    .dataframe tbody tr th {\n",
              "        vertical-align: top;\n",
              "    }\n",
              "\n",
              "    .dataframe thead th {\n",
              "        text-align: right;\n",
              "    }\n",
              "</style>\n",
              "<table border=\"1\" class=\"dataframe\">\n",
              "  <thead>\n",
              "    <tr style=\"text-align: right;\">\n",
              "      <th></th>\n",
              "      <th>Hours</th>\n",
              "      <th>Scores</th>\n",
              "    </tr>\n",
              "  </thead>\n",
              "  <tbody>\n",
              "    <tr>\n",
              "      <th>0</th>\n",
              "      <td>2.5</td>\n",
              "      <td>21</td>\n",
              "    </tr>\n",
              "    <tr>\n",
              "      <th>1</th>\n",
              "      <td>5.1</td>\n",
              "      <td>47</td>\n",
              "    </tr>\n",
              "    <tr>\n",
              "      <th>2</th>\n",
              "      <td>3.2</td>\n",
              "      <td>27</td>\n",
              "    </tr>\n",
              "    <tr>\n",
              "      <th>3</th>\n",
              "      <td>8.5</td>\n",
              "      <td>75</td>\n",
              "    </tr>\n",
              "    <tr>\n",
              "      <th>4</th>\n",
              "      <td>3.5</td>\n",
              "      <td>30</td>\n",
              "    </tr>\n",
              "  </tbody>\n",
              "</table>\n",
              "</div>"
            ],
            "text/plain": [
              "   Hours  Scores\n",
              "0    2.5      21\n",
              "1    5.1      47\n",
              "2    3.2      27\n",
              "3    8.5      75\n",
              "4    3.5      30"
            ]
          },
          "metadata": {
            "tags": []
          },
          "execution_count": 10
        }
      ]
    },
    {
      "cell_type": "markdown",
      "metadata": {
        "id": "Svp0mdEmHZHt"
      },
      "source": [
        "# Data Analysing"
      ]
    },
    {
      "cell_type": "code",
      "metadata": {
        "colab": {
          "base_uri": "https://localhost:8080/"
        },
        "id": "E3fEQ7YaHbo8",
        "outputId": "145cc016-7d0a-445b-c242-947f65bb8d64"
      },
      "source": [
        "\n",
        "# to know the shape of dataframe\n",
        "df.shape"
      ],
      "execution_count": 11,
      "outputs": [
        {
          "output_type": "execute_result",
          "data": {
            "text/plain": [
              "(25, 2)"
            ]
          },
          "metadata": {
            "tags": []
          },
          "execution_count": 11
        }
      ]
    },
    {
      "cell_type": "markdown",
      "metadata": {
        "id": "L3VV_x--Hgf5"
      },
      "source": [
        "There are 25 rows and 2 columns"
      ]
    },
    {
      "cell_type": "code",
      "metadata": {
        "colab": {
          "base_uri": "https://localhost:8080/"
        },
        "id": "pOGeq6l7HhMf",
        "outputId": "bb3aad49-c065-4083-b485-c722cb6e6026"
      },
      "source": [
        "avg_hour = df['Hours'].mean()\n",
        "avg_score = df['Scores'].mean()\n",
        "print(f'Students studied for {avg_hour} hours by average and scored in an average of {avg_score} marks')"
      ],
      "execution_count": 12,
      "outputs": [
        {
          "output_type": "stream",
          "text": [
            "Students studied for 5.012 hours by average and scored in an average of 51.48 marks\n"
          ],
          "name": "stdout"
        }
      ]
    },
    {
      "cell_type": "code",
      "metadata": {
        "colab": {
          "base_uri": "https://localhost:8080/"
        },
        "id": "bQWU6nqOHkUJ",
        "outputId": "cafe49c1-be3e-40f2-d525-3498ea8ecafc"
      },
      "source": [
        "\n",
        "min_hour = df['Hours'].min()\n",
        "max_hour = df['Hours'].max()\n",
        "min_score = df['Scores'].min()\n",
        "max_score = df['Scores'].max()\n",
        "print(f'Minimum hour studied :{min_hour}')\n",
        "print(f'Maximum hour studied :{max_hour}')\n",
        "print(f'Minimum scored mark :{min_score}')\n",
        "print(f'Maximum scored mark :{max_score}')"
      ],
      "execution_count": 13,
      "outputs": [
        {
          "output_type": "stream",
          "text": [
            "Minimum hour studied :1.1\n",
            "Maximum hour studied :9.2\n",
            "Minimum scored mark :17\n",
            "Maximum scored mark :95\n"
          ],
          "name": "stdout"
        }
      ]
    },
    {
      "cell_type": "code",
      "metadata": {
        "colab": {
          "base_uri": "https://localhost:8080/",
          "height": 294
        },
        "id": "IWFTbTTmHn43",
        "outputId": "2b7722ad-6e23-4fce-aeb6-ebab3e34ef64"
      },
      "source": [
        "# We can check our min, max,... here too\n",
        "df.describe()"
      ],
      "execution_count": 14,
      "outputs": [
        {
          "output_type": "execute_result",
          "data": {
            "text/html": [
              "<div>\n",
              "<style scoped>\n",
              "    .dataframe tbody tr th:only-of-type {\n",
              "        vertical-align: middle;\n",
              "    }\n",
              "\n",
              "    .dataframe tbody tr th {\n",
              "        vertical-align: top;\n",
              "    }\n",
              "\n",
              "    .dataframe thead th {\n",
              "        text-align: right;\n",
              "    }\n",
              "</style>\n",
              "<table border=\"1\" class=\"dataframe\">\n",
              "  <thead>\n",
              "    <tr style=\"text-align: right;\">\n",
              "      <th></th>\n",
              "      <th>Hours</th>\n",
              "      <th>Scores</th>\n",
              "    </tr>\n",
              "  </thead>\n",
              "  <tbody>\n",
              "    <tr>\n",
              "      <th>count</th>\n",
              "      <td>25.000000</td>\n",
              "      <td>25.000000</td>\n",
              "    </tr>\n",
              "    <tr>\n",
              "      <th>mean</th>\n",
              "      <td>5.012000</td>\n",
              "      <td>51.480000</td>\n",
              "    </tr>\n",
              "    <tr>\n",
              "      <th>std</th>\n",
              "      <td>2.525094</td>\n",
              "      <td>25.286887</td>\n",
              "    </tr>\n",
              "    <tr>\n",
              "      <th>min</th>\n",
              "      <td>1.100000</td>\n",
              "      <td>17.000000</td>\n",
              "    </tr>\n",
              "    <tr>\n",
              "      <th>25%</th>\n",
              "      <td>2.700000</td>\n",
              "      <td>30.000000</td>\n",
              "    </tr>\n",
              "    <tr>\n",
              "      <th>50%</th>\n",
              "      <td>4.800000</td>\n",
              "      <td>47.000000</td>\n",
              "    </tr>\n",
              "    <tr>\n",
              "      <th>75%</th>\n",
              "      <td>7.400000</td>\n",
              "      <td>75.000000</td>\n",
              "    </tr>\n",
              "    <tr>\n",
              "      <th>max</th>\n",
              "      <td>9.200000</td>\n",
              "      <td>95.000000</td>\n",
              "    </tr>\n",
              "  </tbody>\n",
              "</table>\n",
              "</div>"
            ],
            "text/plain": [
              "           Hours     Scores\n",
              "count  25.000000  25.000000\n",
              "mean    5.012000  51.480000\n",
              "std     2.525094  25.286887\n",
              "min     1.100000  17.000000\n",
              "25%     2.700000  30.000000\n",
              "50%     4.800000  47.000000\n",
              "75%     7.400000  75.000000\n",
              "max     9.200000  95.000000"
            ]
          },
          "metadata": {
            "tags": []
          },
          "execution_count": 14
        }
      ]
    },
    {
      "cell_type": "code",
      "metadata": {
        "colab": {
          "base_uri": "https://localhost:8080/"
        },
        "id": "_QPOvTJ2Hq3H",
        "outputId": "80939ca8-fa10-4491-eabe-050c7fae00a6"
      },
      "source": [
        "df.info()"
      ],
      "execution_count": 15,
      "outputs": [
        {
          "output_type": "stream",
          "text": [
            "<class 'pandas.core.frame.DataFrame'>\n",
            "RangeIndex: 25 entries, 0 to 24\n",
            "Data columns (total 2 columns):\n",
            " #   Column  Non-Null Count  Dtype  \n",
            "---  ------  --------------  -----  \n",
            " 0   Hours   25 non-null     float64\n",
            " 1   Scores  25 non-null     int64  \n",
            "dtypes: float64(1), int64(1)\n",
            "memory usage: 528.0 bytes\n"
          ],
          "name": "stdout"
        }
      ]
    },
    {
      "cell_type": "code",
      "metadata": {
        "colab": {
          "base_uri": "https://localhost:8080/",
          "height": 110
        },
        "id": "YR_XSfdFHuPT",
        "outputId": "9ea7abba-44b2-41ab-fedf-1ba2767ced75"
      },
      "source": [
        "# To see correlation\n",
        "correlation = df.corr()\n",
        "correlation"
      ],
      "execution_count": 16,
      "outputs": [
        {
          "output_type": "execute_result",
          "data": {
            "text/html": [
              "<div>\n",
              "<style scoped>\n",
              "    .dataframe tbody tr th:only-of-type {\n",
              "        vertical-align: middle;\n",
              "    }\n",
              "\n",
              "    .dataframe tbody tr th {\n",
              "        vertical-align: top;\n",
              "    }\n",
              "\n",
              "    .dataframe thead th {\n",
              "        text-align: right;\n",
              "    }\n",
              "</style>\n",
              "<table border=\"1\" class=\"dataframe\">\n",
              "  <thead>\n",
              "    <tr style=\"text-align: right;\">\n",
              "      <th></th>\n",
              "      <th>Hours</th>\n",
              "      <th>Scores</th>\n",
              "    </tr>\n",
              "  </thead>\n",
              "  <tbody>\n",
              "    <tr>\n",
              "      <th>Hours</th>\n",
              "      <td>1.000000</td>\n",
              "      <td>0.976191</td>\n",
              "    </tr>\n",
              "    <tr>\n",
              "      <th>Scores</th>\n",
              "      <td>0.976191</td>\n",
              "      <td>1.000000</td>\n",
              "    </tr>\n",
              "  </tbody>\n",
              "</table>\n",
              "</div>"
            ],
            "text/plain": [
              "           Hours    Scores\n",
              "Hours   1.000000  0.976191\n",
              "Scores  0.976191  1.000000"
            ]
          },
          "metadata": {
            "tags": []
          },
          "execution_count": 16
        }
      ]
    },
    {
      "cell_type": "code",
      "metadata": {
        "colab": {
          "base_uri": "https://localhost:8080/",
          "height": 391
        },
        "id": "H_nZTF1oHyog",
        "outputId": "bec92488-dd17-4ee5-9966-bd72cbe6811c"
      },
      "source": [
        "# To see visually \n",
        "plt.figure(figsize=(8, 6))\n",
        "sns.heatmap(correlation, annot = True)\n",
        "plt.title('Correlation', fontsize = 14)\n",
        "plt.show()"
      ],
      "execution_count": 17,
      "outputs": [
        {
          "output_type": "display_data",
          "data": {
            "image/png": "[encoded data removed]",
            "text/plain": [
              "<Figure size 576x432 with 2 Axes>"
            ]
          },
          "metadata": {
            "tags": [],
            "needs_background": "light"
          }
        }
      ]
    },
    {
      "cell_type": "markdown",
      "metadata": {
        "id": "ZfZ89pJpH4V1"
      },
      "source": [
        "\n",
        "Hours and Scores have correlation value of 0.98. It's almost equals to 1. They are highly correlated"
      ]
    },
    {
      "cell_type": "code",
      "metadata": {
        "colab": {
          "base_uri": "https://localhost:8080/",
          "height": 377
        },
        "id": "nvZOjVE_H6Zz",
        "outputId": "20f002fb-3f37-44fc-8506-dc7eb6269584"
      },
      "source": [
        "# Boxplot for Scores\n",
        "plt.figure(figsize = (6, 6)) \n",
        "sns.boxplot(y = df['Scores'])\n",
        "plt.title('Boxplot')\n",
        "plt.grid(True)\n",
        "plt.show()"
      ],
      "execution_count": 18,
      "outputs": [
        {
          "output_type": "display_data",
          "data": {
            "image/png": "[encoded data removed]",
            "text/plain": [
              "<Figure size 432x432 with 1 Axes>"
            ]
          },
          "metadata": {
            "tags": [],
            "needs_background": "light"
          }
        }
      ]
    },
    {
      "cell_type": "markdown",
      "metadata": {
        "id": "gwvY0i3hIAGS"
      },
      "source": [
        "The above figure infers that median of the scored mark is 47, the first quartile and third quartile values are 30 and 75"
      ]
    },
    {
      "cell_type": "code",
      "metadata": {
        "colab": {
          "base_uri": "https://localhost:8080/",
          "height": 540
        },
        "id": "9mebsOXDIA4U",
        "outputId": "eced258d-0cbb-4bff-caf9-09c9cb9ce7d3"
      },
      "source": [
        "#Plot two histogram for Scored marks and Studied hours using subplots  \n",
        "plt.rcParams['figure.figsize'] = (12, 8)\n",
        "fig, (ax1, ax2) = plt.subplots(2)\n",
        "fig.suptitle('Histogram for Scored marks and Studied hours')\n",
        "ax1.hist(df['Scores'], bins = 10)\n",
        "ax2.hist(df['Hours'])\n",
        "plt.show()"
      ],
      "execution_count": 19,
      "outputs": [
        {
          "output_type": "display_data",
          "data": {
            "image/png": "[encoded data removed]",
            "text/plain": [
              "<Figure size 864x576 with 2 Axes>"
            ]
          },
          "metadata": {
            "tags": [],
            "needs_background": "light"
          }
        }
      ]
    },
    {
      "cell_type": "markdown",
      "metadata": {
        "id": "WP0lzU2rIFMF"
      },
      "source": [
        "More students scored nearly 10 to 33 marks and more number of student(4) studied 2-3 hours only"
      ]
    },
    {
      "cell_type": "code",
      "metadata": {
        "colab": {
          "base_uri": "https://localhost:8080/",
          "height": 390
        },
        "id": "xuEyh7msIG4i",
        "outputId": "ba6668e2-8d27-4267-9552-94f93da65e52"
      },
      "source": [
        "# Kdeplot\n",
        "plt.figure(figsize = (8, 6))\n",
        "sns.kdeplot(data = df)\n",
        "plt.title('Kdeplot')\n",
        "plt.show()"
      ],
      "execution_count": 20,
      "outputs": [
        {
          "output_type": "display_data",
          "data": {
            "image/png": "[encoded data removed]",
            "text/plain": [
              "<Figure size 576x432 with 1 Axes>"
            ]
          },
          "metadata": {
            "tags": [],
            "needs_background": "light"
          }
        }
      ]
    },
    {
      "cell_type": "code",
      "metadata": {
        "colab": {
          "base_uri": "https://localhost:8080/",
          "height": 443
        },
        "id": "y2-nD-czIPrS",
        "outputId": "136c7cdb-0207-41ff-b644-8784420fb954"
      },
      "source": [
        "# distplot\n",
        "plt.figure(figsize = (8, 6))\n",
        "sns.distplot(df['Scores'])\n",
        "plt.show()"
      ],
      "execution_count": 23,
      "outputs": [
        {
          "output_type": "stream",
          "text": [
            "/usr/local/lib/python3.7/dist-packages/seaborn/distributions.py:2557: FutureWarning: `distplot` is a deprecated function and will be removed in a future version. Please adapt your code to use either `displot` (a figure-level function with similar flexibility) or `histplot` (an axes-level function for histograms).\n",
            "  warnings.warn(msg, FutureWarning)\n"
          ],
          "name": "stderr"
        },
        {
          "output_type": "display_data",
          "data": {
            "image/png": "[encoded data removed]",
            "text/plain": [
              "<Figure size 576x432 with 1 Axes>"
            ]
          },
          "metadata": {
            "tags": [],
            "needs_background": "light"
          }
        }
      ]
    },
    {
      "cell_type": "markdown",
      "metadata": {
        "id": "IwPwfAf6IYy-"
      },
      "source": [
        "The above figure shows how the data is distributed"
      ]
    },
    {
      "cell_type": "code",
      "metadata": {
        "colab": {
          "base_uri": "https://localhost:8080/",
          "height": 515
        },
        "id": "d31a3uBKIap-",
        "outputId": "1f19e286-fdb6-4550-c848-2a8dd54c8e70"
      },
      "source": [
        "# Plot the values on scatter plot\n",
        "plt.rcParams['figure.figsize'] = (12, 8)\n",
        "plt.scatter(df['Hours'], df['Scores'], marker='o', color = 'red', label = 'Scores per hour')\n",
        "plt.xlabel('Hours')\n",
        "plt.ylabel('Scores')\n",
        "plt.title('Hours Vs Percentage', fontsize = 15)\n",
        "plt.legend()\n",
        "plt.show()"
      ],
      "execution_count": 24,
      "outputs": [
        {
          "output_type": "display_data",
          "data": {
            "image/png": "[encoded data removed]",
            "text/plain": [
              "<Figure size 864x576 with 1 Axes>"
            ]
          },
          "metadata": {
            "tags": [],
            "needs_background": "light"
          }
        }
      ]
    },
    {
      "cell_type": "markdown",
      "metadata": {
        "id": "h_OCY5slIfJ_"
      },
      "source": [
        "The above figure infers that the more Hours a student studies the more he/she scores. If a student study more than 5 hours he/she can score more than average mark of all students."
      ]
    },
    {
      "cell_type": "markdown",
      "metadata": {
        "id": "RaCJTqGZIiA0"
      },
      "source": [
        "# Data Wrangling"
      ]
    },
    {
      "cell_type": "code",
      "metadata": {
        "colab": {
          "base_uri": "https://localhost:8080/"
        },
        "id": "fiw_TVnsIk8_",
        "outputId": "f048b209-bf78-4211-9a2c-078ef1831758"
      },
      "source": [
        "# To see null values\n",
        "df.isnull().sum()"
      ],
      "execution_count": 25,
      "outputs": [
        {
          "output_type": "execute_result",
          "data": {
            "text/plain": [
              "Hours     0\n",
              "Scores    0\n",
              "dtype: int64"
            ]
          },
          "metadata": {
            "tags": []
          },
          "execution_count": 25
        }
      ]
    },
    {
      "cell_type": "code",
      "metadata": {
        "colab": {
          "base_uri": "https://localhost:8080/",
          "height": 395
        },
        "id": "2g0L2UN_Inq_",
        "outputId": "ced67670-907d-4f99-af58-83b2b28f6eab"
      },
      "source": [
        "# To see visually\n",
        "plt.figure(figsize = (8, 6))\n",
        "sns.heatmap(df.isnull(), cmap = 'viridis')"
      ],
      "execution_count": 26,
      "outputs": [
        {
          "output_type": "execute_result",
          "data": {
            "text/plain": [
              "<matplotlib.axes._subplots.AxesSubplot at 0x7f1af8c5a650>"
            ]
          },
          "metadata": {
            "tags": []
          },
          "execution_count": 26
        },
        {
          "output_type": "display_data",
          "data": {
            "image/png": "[encoded data removed]",
            "text/plain": [
              "<Figure size 576x432 with 2 Axes>"
            ]
          },
          "metadata": {
            "tags": [],
            "needs_background": "light"
          }
        }
      ]
    },
    {
      "cell_type": "markdown",
      "metadata": {
        "id": "LV9Pd2XeIrYp"
      },
      "source": [
        "There is no null values in the given data."
      ]
    },
    {
      "cell_type": "markdown",
      "metadata": {
        "id": "jS8RTu5kIutW"
      },
      "source": [
        "# Training and Testing"
      ]
    },
    {
      "cell_type": "code",
      "metadata": {
        "id": "8A_7ATNiIxVp"
      },
      "source": [
        "# import libraries\n",
        "from sklearn.model_selection import train_test_split\n",
        "from sklearn.linear_model import LinearRegression\n",
        "import statsmodels.api as sm\n",
        "import numpy as np"
      ],
      "execution_count": 29,
      "outputs": []
    },
    {
      "cell_type": "code",
      "metadata": {
        "id": "hoKpc8zdI9AU"
      },
      "source": [
        "X = df.iloc[:, :-1].copy()\n",
        "y = df.iloc[:, 1].copy()"
      ],
      "execution_count": 31,
      "outputs": []
    },
    {
      "cell_type": "code",
      "metadata": {
        "id": "AJ0lwd_fJAT2"
      },
      "source": [
        "#Split our data in random manner with the ratio of 80:20, whereas 80% of data for training and 20% data for testing\n",
        "X_train, X_test, y_train, y_test = train_test_split(X, y, test_size=0.2, random_state=0)"
      ],
      "execution_count": 32,
      "outputs": []
    },
    {
      "cell_type": "code",
      "metadata": {
        "colab": {
          "base_uri": "https://localhost:8080/"
        },
        "id": "0S34V6MtJDk6",
        "outputId": "154fbc8b-b86e-4612-9c2c-d9aca22de8e2"
      },
      "source": [
        "len(X_train), len(X_test)"
      ],
      "execution_count": 33,
      "outputs": [
        {
          "output_type": "execute_result",
          "data": {
            "text/plain": [
              "(20, 5)"
            ]
          },
          "metadata": {
            "tags": []
          },
          "execution_count": 33
        }
      ]
    },
    {
      "cell_type": "markdown",
      "metadata": {
        "id": "GgRnnEskJEzg"
      },
      "source": [
        "\n",
        "We split our dataset 20 for training and 5 for testing"
      ]
    },
    {
      "cell_type": "code",
      "metadata": {
        "id": "Z9-27qa3JGYI"
      },
      "source": [
        "# Build a linear model\n",
        "lr_model_1 = sm.OLS(y_train, X_train).fit()"
      ],
      "execution_count": 34,
      "outputs": []
    },
    {
      "cell_type": "code",
      "metadata": {
        "colab": {
          "base_uri": "https://localhost:8080/"
        },
        "id": "VagWvLEUJJKr",
        "outputId": "eca837e4-1cb4-4b00-b522-c0f078a388cf"
      },
      "source": [
        "print(lr_model_1.summary())"
      ],
      "execution_count": 35,
      "outputs": [
        {
          "output_type": "stream",
          "text": [
            "                                 OLS Regression Results                                \n",
            "=======================================================================================\n",
            "Dep. Variable:                 Scores   R-squared (uncentered):                   0.991\n",
            "Model:                            OLS   Adj. R-squared (uncentered):              0.991\n",
            "Method:                 Least Squares   F-statistic:                              2111.\n",
            "Date:                Sat, 20 Mar 2021   Prob (F-statistic):                    6.12e-21\n",
            "Time:                        14:58:04   Log-Likelihood:                         -62.925\n",
            "No. Observations:                  20   AIC:                                      127.8\n",
            "Df Residuals:                      19   BIC:                                      128.8\n",
            "Df Model:                           1                                                  \n",
            "Covariance Type:            nonrobust                                                  \n",
            "==============================================================================\n",
            "                 coef    std err          t      P>|t|      [0.025      0.975]\n",
            "------------------------------------------------------------------------------\n",
            "Hours         10.2251      0.223     45.950      0.000       9.759      10.691\n",
            "==============================================================================\n",
            "Omnibus:                        2.581   Durbin-Watson:                   1.873\n",
            "Prob(Omnibus):                  0.275   Jarque-Bera (JB):                1.529\n",
            "Skew:                          -0.410   Prob(JB):                        0.466\n",
            "Kurtosis:                       1.922   Cond. No.                         1.00\n",
            "==============================================================================\n",
            "\n",
            "Warnings:\n",
            "[1] Standard Errors assume that the covariance matrix of the errors is correctly specified.\n"
          ],
          "name": "stdout"
        }
      ]
    },
    {
      "cell_type": "markdown",
      "metadata": {
        "id": "DfnbUYWFJNXp"
      },
      "source": [
        "We get R-squared value of :0.991, Adj. R-squared :0.991(same value) and P value for Hours is also 0. There is no redundant feature.\n",
        "Let's add a constant and check whether our model gets improved or not"
      ]
    },
    {
      "cell_type": "code",
      "metadata": {
        "id": "9EzLUOhRJOIy"
      },
      "source": [
        "X_train_2 = sm.add_constant(X_train)\n",
        "lr_model_2 = sm.OLS(y_train, X_train_2).fit()"
      ],
      "execution_count": 36,
      "outputs": []
    },
    {
      "cell_type": "code",
      "metadata": {
        "colab": {
          "base_uri": "https://localhost:8080/"
        },
        "id": "cSxjVbs3JRjK",
        "outputId": "4f4caa6c-3990-425a-e777-050b9e33e100"
      },
      "source": [
        "print(lr_model_2.summary())"
      ],
      "execution_count": 37,
      "outputs": [
        {
          "output_type": "stream",
          "text": [
            "                            OLS Regression Results                            \n",
            "==============================================================================\n",
            "Dep. Variable:                 Scores   R-squared:                       0.952\n",
            "Model:                            OLS   Adj. R-squared:                  0.949\n",
            "Method:                 Least Squares   F-statistic:                     353.5\n",
            "Date:                Sat, 20 Mar 2021   Prob (F-statistic):           2.79e-13\n",
            "Time:                        14:58:37   Log-Likelihood:                -62.686\n",
            "No. Observations:                  20   AIC:                             129.4\n",
            "Df Residuals:                      18   BIC:                             131.4\n",
            "Df Model:                           1                                         \n",
            "Covariance Type:            nonrobust                                         \n",
            "==============================================================================\n",
            "                 coef    std err          t      P>|t|      [0.025      0.975]\n",
            "------------------------------------------------------------------------------\n",
            "const          2.0182      3.057      0.660      0.517      -4.404       8.441\n",
            "Hours          9.9107      0.527     18.802      0.000       8.803      11.018\n",
            "==============================================================================\n",
            "Omnibus:                        4.659   Durbin-Watson:                   1.813\n",
            "Prob(Omnibus):                  0.097   Jarque-Bera (JB):                1.720\n",
            "Skew:                          -0.296   Prob(JB):                        0.423\n",
            "Kurtosis:                       1.691   Cond. No.                         13.9\n",
            "==============================================================================\n",
            "\n",
            "Warnings:\n",
            "[1] Standard Errors assume that the covariance matrix of the errors is correctly specified.\n"
          ],
          "name": "stdout"
        }
      ]
    },
    {
      "cell_type": "markdown",
      "metadata": {
        "id": "bYlMFxAaJWwP"
      },
      "source": [
        "# Value after adding a constant\n",
        "**R-squared:0.952, Adj. R-squared:0.949**\n",
        "\n",
        "\n",
        "R-squared value decreased as well as Adj. R-squared value. There is a small difference between both values too."
      ]
    },
    {
      "cell_type": "markdown",
      "metadata": {
        "id": "WJtEz-pvJiKw"
      },
      "source": [
        "# Equation for Linear regression\n",
        "$y = mx + c$<br>\n",
        "y : Score<br>\n",
        "c : Intercept<br>\n",
        "m : coefficient of the feature"
      ]
    },
    {
      "cell_type": "code",
      "metadata": {
        "id": "xz078F4WJrgQ"
      },
      "source": [
        "# create instance for model\n",
        "lin_model = LinearRegression()"
      ],
      "execution_count": 39,
      "outputs": []
    },
    {
      "cell_type": "code",
      "metadata": {
        "colab": {
          "base_uri": "https://localhost:8080/"
        },
        "id": "6HB97RibJwqW",
        "outputId": "f435fc5d-bd7c-44e6-8ded-542ca0909c49"
      },
      "source": [
        "# fit model with training set\n",
        "lin_model.fit(X_train, y_train)"
      ],
      "execution_count": 40,
      "outputs": [
        {
          "output_type": "execute_result",
          "data": {
            "text/plain": [
              "LinearRegression(copy_X=True, fit_intercept=True, n_jobs=None, normalize=False)"
            ]
          },
          "metadata": {
            "tags": []
          },
          "execution_count": 40
        }
      ]
    },
    {
      "cell_type": "code",
      "metadata": {
        "id": "-BW2caLPJ1vM"
      },
      "source": [
        "# Predict the output for training set\n",
        "train_pred = lin_model.predict(X_train)"
      ],
      "execution_count": 41,
      "outputs": []
    },
    {
      "cell_type": "code",
      "metadata": {
        "colab": {
          "base_uri": "https://localhost:8080/",
          "height": 662
        },
        "id": "2EsIJbHEJ4cg",
        "outputId": "29eac250-6444-4ac0-fe82-5bfa79f19405"
      },
      "source": [
        "# Compare the actual and predicted data in training set\n",
        "train_df = pd.DataFrame({'Actual':y_train, 'Prediction':np.round(train_pred, 3)})\n",
        "train_df"
      ],
      "execution_count": 42,
      "outputs": [
        {
          "output_type": "execute_result",
          "data": {
            "text/html": [
              "<div>\n",
              "<style scoped>\n",
              "    .dataframe tbody tr th:only-of-type {\n",
              "        vertical-align: middle;\n",
              "    }\n",
              "\n",
              "    .dataframe tbody tr th {\n",
              "        vertical-align: top;\n",
              "    }\n",
              "\n",
              "    .dataframe thead th {\n",
              "        text-align: right;\n",
              "    }\n",
              "</style>\n",
              "<table border=\"1\" class=\"dataframe\">\n",
              "  <thead>\n",
              "    <tr style=\"text-align: right;\">\n",
              "      <th></th>\n",
              "      <th>Actual</th>\n",
              "      <th>Prediction</th>\n",
              "    </tr>\n",
              "  </thead>\n",
              "  <tbody>\n",
              "    <tr>\n",
              "      <th>22</th>\n",
              "      <td>35</td>\n",
              "      <td>39.679</td>\n",
              "    </tr>\n",
              "    <tr>\n",
              "      <th>17</th>\n",
              "      <td>24</td>\n",
              "      <td>20.848</td>\n",
              "    </tr>\n",
              "    <tr>\n",
              "      <th>24</th>\n",
              "      <td>86</td>\n",
              "      <td>79.321</td>\n",
              "    </tr>\n",
              "    <tr>\n",
              "      <th>23</th>\n",
              "      <td>76</td>\n",
              "      <td>70.402</td>\n",
              "    </tr>\n",
              "    <tr>\n",
              "      <th>14</th>\n",
              "      <td>17</td>\n",
              "      <td>12.920</td>\n",
              "    </tr>\n",
              "    <tr>\n",
              "      <th>1</th>\n",
              "      <td>47</td>\n",
              "      <td>52.563</td>\n",
              "    </tr>\n",
              "    <tr>\n",
              "      <th>10</th>\n",
              "      <td>85</td>\n",
              "      <td>78.330</td>\n",
              "    </tr>\n",
              "    <tr>\n",
              "      <th>13</th>\n",
              "      <td>42</td>\n",
              "      <td>34.723</td>\n",
              "    </tr>\n",
              "    <tr>\n",
              "      <th>8</th>\n",
              "      <td>81</td>\n",
              "      <td>84.277</td>\n",
              "    </tr>\n",
              "    <tr>\n",
              "      <th>6</th>\n",
              "      <td>88</td>\n",
              "      <td>93.196</td>\n",
              "    </tr>\n",
              "    <tr>\n",
              "      <th>18</th>\n",
              "      <td>67</td>\n",
              "      <td>62.473</td>\n",
              "    </tr>\n",
              "    <tr>\n",
              "      <th>4</th>\n",
              "      <td>30</td>\n",
              "      <td>36.705</td>\n",
              "    </tr>\n",
              "    <tr>\n",
              "      <th>9</th>\n",
              "      <td>25</td>\n",
              "      <td>28.777</td>\n",
              "    </tr>\n",
              "    <tr>\n",
              "      <th>7</th>\n",
              "      <td>60</td>\n",
              "      <td>56.527</td>\n",
              "    </tr>\n",
              "    <tr>\n",
              "      <th>20</th>\n",
              "      <td>30</td>\n",
              "      <td>28.777</td>\n",
              "    </tr>\n",
              "    <tr>\n",
              "      <th>3</th>\n",
              "      <td>75</td>\n",
              "      <td>86.259</td>\n",
              "    </tr>\n",
              "    <tr>\n",
              "      <th>0</th>\n",
              "      <td>21</td>\n",
              "      <td>26.795</td>\n",
              "    </tr>\n",
              "    <tr>\n",
              "      <th>21</th>\n",
              "      <td>54</td>\n",
              "      <td>49.589</td>\n",
              "    </tr>\n",
              "    <tr>\n",
              "      <th>15</th>\n",
              "      <td>95</td>\n",
              "      <td>90.223</td>\n",
              "    </tr>\n",
              "    <tr>\n",
              "      <th>12</th>\n",
              "      <td>41</td>\n",
              "      <td>46.616</td>\n",
              "    </tr>\n",
              "  </tbody>\n",
              "</table>\n",
              "</div>"
            ],
            "text/plain": [
              "    Actual  Prediction\n",
              "22      35      39.679\n",
              "17      24      20.848\n",
              "24      86      79.321\n",
              "23      76      70.402\n",
              "14      17      12.920\n",
              "1       47      52.563\n",
              "10      85      78.330\n",
              "13      42      34.723\n",
              "8       81      84.277\n",
              "6       88      93.196\n",
              "18      67      62.473\n",
              "4       30      36.705\n",
              "9       25      28.777\n",
              "7       60      56.527\n",
              "20      30      28.777\n",
              "3       75      86.259\n",
              "0       21      26.795\n",
              "21      54      49.589\n",
              "15      95      90.223\n",
              "12      41      46.616"
            ]
          },
          "metadata": {
            "tags": []
          },
          "execution_count": 42
        }
      ]
    },
    {
      "cell_type": "code",
      "metadata": {
        "colab": {
          "base_uri": "https://localhost:8080/"
        },
        "id": "JL6bCd4tJ8LD",
        "outputId": "0ff219d4-f3f3-4ab0-8341-681d460d39d5"
      },
      "source": [
        "# B0 = Intercept, B1 = Slope of line\n",
        "B0 = lin_model.intercept_\n",
        "B1 = lin_model.coef_\n",
        "print(f'Intercept :{B0} and coefficients :{B1}')"
      ],
      "execution_count": 43,
      "outputs": [
        {
          "output_type": "stream",
          "text": [
            "Intercept :2.018160041434662 and coefficients :[9.91065648]\n"
          ],
          "name": "stdout"
        }
      ]
    },
    {
      "cell_type": "code",
      "metadata": {
        "id": "u3oAhS9oJ_Ns"
      },
      "source": [
        "# Regression line\n",
        "reg_line = B0 + B1 * X_train"
      ],
      "execution_count": 44,
      "outputs": []
    },
    {
      "cell_type": "code",
      "metadata": {
        "colab": {
          "base_uri": "https://localhost:8080/",
          "height": 515
        },
        "id": "CixzqN4lKAfp",
        "outputId": "24413b3b-c29a-4c53-ceb6-487d556c61af"
      },
      "source": [
        "# Plot figure for training set\n",
        "plt.scatter(X_train, y_train, color = 'red', marker = '*', label = 'Studied hours Vs Scored marks')\n",
        "plt.plot(X_train, reg_line, '-b', label = 'Regression Line')\n",
        "plt.xlabel('Hours')\n",
        "plt.ylabel('Scores')\n",
        "plt.title('Regression line for training set', fontsize = 15)\n",
        "plt.legend()\n",
        "plt.show()"
      ],
      "execution_count": 45,
      "outputs": [
        {
          "output_type": "display_data",
          "data": {
            "image/png": "[encoded data removed]",
            "text/plain": [
              "<Figure size 864x576 with 1 Axes>"
            ]
          },
          "metadata": {
            "tags": [],
            "needs_background": "light"
          }
        }
      ]
    },
    {
      "cell_type": "code",
      "metadata": {
        "id": "-moo0VfcKD_V"
      },
      "source": [
        "# Predict output for test set\n",
        "test_pred = lin_model.predict(X_test)"
      ],
      "execution_count": 46,
      "outputs": []
    },
    {
      "cell_type": "code",
      "metadata": {
        "colab": {
          "base_uri": "https://localhost:8080/",
          "height": 202
        },
        "id": "ecEIlTrCKHTE",
        "outputId": "d4f4fb96-17e2-4b41-9002-78a1b0117eb1"
      },
      "source": [
        "# Compare the actual and predicted data in test set\n",
        "test_df = pd.DataFrame({'Actual':y_test, 'Prediction':np.round(test_pred, 3)})\n",
        "test_df"
      ],
      "execution_count": 47,
      "outputs": [
        {
          "output_type": "execute_result",
          "data": {
            "text/html": [
              "<div>\n",
              "<style scoped>\n",
              "    .dataframe tbody tr th:only-of-type {\n",
              "        vertical-align: middle;\n",
              "    }\n",
              "\n",
              "    .dataframe tbody tr th {\n",
              "        vertical-align: top;\n",
              "    }\n",
              "\n",
              "    .dataframe thead th {\n",
              "        text-align: right;\n",
              "    }\n",
              "</style>\n",
              "<table border=\"1\" class=\"dataframe\">\n",
              "  <thead>\n",
              "    <tr style=\"text-align: right;\">\n",
              "      <th></th>\n",
              "      <th>Actual</th>\n",
              "      <th>Prediction</th>\n",
              "    </tr>\n",
              "  </thead>\n",
              "  <tbody>\n",
              "    <tr>\n",
              "      <th>5</th>\n",
              "      <td>20</td>\n",
              "      <td>16.884</td>\n",
              "    </tr>\n",
              "    <tr>\n",
              "      <th>2</th>\n",
              "      <td>27</td>\n",
              "      <td>33.732</td>\n",
              "    </tr>\n",
              "    <tr>\n",
              "      <th>19</th>\n",
              "      <td>69</td>\n",
              "      <td>75.357</td>\n",
              "    </tr>\n",
              "    <tr>\n",
              "      <th>16</th>\n",
              "      <td>30</td>\n",
              "      <td>26.795</td>\n",
              "    </tr>\n",
              "    <tr>\n",
              "      <th>11</th>\n",
              "      <td>62</td>\n",
              "      <td>60.491</td>\n",
              "    </tr>\n",
              "  </tbody>\n",
              "</table>\n",
              "</div>"
            ],
            "text/plain": [
              "    Actual  Prediction\n",
              "5       20      16.884\n",
              "2       27      33.732\n",
              "19      69      75.357\n",
              "16      30      26.795\n",
              "11      62      60.491"
            ]
          },
          "metadata": {
            "tags": []
          },
          "execution_count": 47
        }
      ]
    },
    {
      "cell_type": "code",
      "metadata": {
        "colab": {
          "base_uri": "https://localhost:8080/",
          "height": 515
        },
        "id": "rY5RFeOhKLbX",
        "outputId": "a5400475-5960-43bf-d50f-3e5cacfed3eb"
      },
      "source": [
        "# Plot figure for test set\n",
        "plt.scatter(X_test, y_test, color = 'red', marker = '*', label = 'Studied hours Vs Scored marks')\n",
        "plt.plot(X_train, reg_line, '-b', label = 'Regression Line')\n",
        "plt.xlabel('Hours')\n",
        "plt.ylabel('Scores')\n",
        "plt.title('Regression line for test set', fontsize = 15)\n",
        "plt.legend()\n",
        "plt.show()"
      ],
      "execution_count": 48,
      "outputs": [
        {
          "output_type": "display_data",
          "data": {
            "image/png": "[encoded data removed]",
            "text/plain": [
              "<Figure size 864x576 with 1 Axes>"
            ]
          },
          "metadata": {
            "tags": [],
            "needs_background": "light"
          }
        }
      ]
    },
    {
      "cell_type": "markdown",
      "metadata": {
        "id": "ecIM6azqKQJ_"
      },
      "source": [
        "# Evalution"
      ]
    },
    {
      "cell_type": "code",
      "metadata": {
        "id": "pxfFcWb_KSMO"
      },
      "source": [
        "# import libraries\n",
        "from sklearn.metrics import mean_squared_error, r2_score"
      ],
      "execution_count": 49,
      "outputs": []
    },
    {
      "cell_type": "markdown",
      "metadata": {
        "id": "0RrP0Y5TKXMM"
      },
      "source": [
        "Mean squared error(without sklearn library) <br>\n",
        "formula for mean squared error <br>\n",
        "$(\\frac{1}{n})\\sum_{i=1}^{n}(y_{i} - y_{i}\\hat{})^{2}$"
      ]
    },
    {
      "cell_type": "code",
      "metadata": {
        "colab": {
          "base_uri": "https://localhost:8080/"
        },
        "id": "rEZ8URwQKdZ8",
        "outputId": "17c1583d-44e4-426b-c979-cad62bbb7e25"
      },
      "source": [
        "sse = (y_test - test_pred)**2\n",
        "sse"
      ],
      "execution_count": 50,
      "outputs": [
        {
          "output_type": "execute_result",
          "data": {
            "text/plain": [
              "5      9.708554\n",
              "2     45.323335\n",
              "19    40.411678\n",
              "16    10.273299\n",
              "11     2.276981\n",
              "Name: Scores, dtype: float64"
            ]
          },
          "metadata": {
            "tags": []
          },
          "execution_count": 50
        }
      ]
    },
    {
      "cell_type": "code",
      "metadata": {
        "colab": {
          "base_uri": "https://localhost:8080/"
        },
        "id": "q1EQI2xcKmEn",
        "outputId": "d9b34f69-9c8c-41ac-bba7-b9a37d188a01"
      },
      "source": [
        "mse = np.mean(sse)\n",
        "print(f'Mean squared error(without sklearn) :{mse}')"
      ],
      "execution_count": 51,
      "outputs": [
        {
          "output_type": "stream",
          "text": [
            "Mean squared error(without sklearn) :21.598769307217456\n"
          ],
          "name": "stdout"
        }
      ]
    },
    {
      "cell_type": "markdown",
      "metadata": {
        "id": "Bn2vpgbyKnpq"
      },
      "source": [
        "**Mean squared error(using sklearn library)**"
      ]
    },
    {
      "cell_type": "code",
      "metadata": {
        "colab": {
          "base_uri": "https://localhost:8080/"
        },
        "id": "M4ryBTuQKrC-",
        "outputId": "2b2f0a5a-8a57-4ba2-dff4-92d52e6888e5"
      },
      "source": [
        "mse_1 = mean_squared_error(y_test, test_pred)\n",
        "print(f'Mean squared error(using sklearn) :{mse_1}')"
      ],
      "execution_count": 52,
      "outputs": [
        {
          "output_type": "stream",
          "text": [
            "Mean squared error(using sklearn) :21.598769307217456\n"
          ],
          "name": "stdout"
        }
      ]
    },
    {
      "cell_type": "markdown",
      "metadata": {
        "id": "p3FnD10MKuZw"
      },
      "source": [
        "**Root Mean squared error**"
      ]
    },
    {
      "cell_type": "code",
      "metadata": {
        "colab": {
          "base_uri": "https://localhost:8080/"
        },
        "id": "V_DGWPowKxjU",
        "outputId": "895fcc19-e156-42f6-c500-fa13401c7810"
      },
      "source": [
        "rmse = np.sqrt(mse)\n",
        "print(f'Root Mean squared error :{rmse}')"
      ],
      "execution_count": 53,
      "outputs": [
        {
          "output_type": "stream",
          "text": [
            "Root Mean squared error :4.647447612100373\n"
          ],
          "name": "stdout"
        }
      ]
    },
    {
      "cell_type": "markdown",
      "metadata": {
        "id": "gHv8wNj6K092"
      },
      "source": [
        "**r2 score(without sklearn library) <br>\n",
        "formula for mean squared error <br>**\n",
        "$1 - \\frac{(y_{i} - y_{i}\\hat{})^{2}}{(y_{i} - \\bar{y_{i}})^{2}}$"
      ]
    },
    {
      "cell_type": "code",
      "metadata": {
        "colab": {
          "base_uri": "https://localhost:8080/"
        },
        "id": "99iClCjoK6LS",
        "outputId": "35fc516d-15bd-4a26-9725-cd0b2916a196"
      },
      "source": [
        "# We already calculated sse value above\n",
        "sse"
      ],
      "execution_count": 54,
      "outputs": [
        {
          "output_type": "execute_result",
          "data": {
            "text/plain": [
              "5      9.708554\n",
              "2     45.323335\n",
              "19    40.411678\n",
              "16    10.273299\n",
              "11     2.276981\n",
              "Name: Scores, dtype: float64"
            ]
          },
          "metadata": {
            "tags": []
          },
          "execution_count": 54
        }
      ]
    },
    {
      "cell_type": "code",
      "metadata": {
        "colab": {
          "base_uri": "https://localhost:8080/"
        },
        "id": "1Gi5gE19K_Bt",
        "outputId": "0bed6c01-9ddc-486f-d41b-470df17c368b"
      },
      "source": [
        "sse_sum = sse.sum()\n",
        "sst = (y_test - np.mean(y_test))**2\n",
        "sst_sum = sst.sum()\n",
        "sse_sum, sst_sum"
      ],
      "execution_count": 55,
      "outputs": [
        {
          "output_type": "execute_result",
          "data": {
            "text/plain": [
              "(107.99384653608728, 1981.1999999999998)"
            ]
          },
          "metadata": {
            "tags": []
          },
          "execution_count": 55
        }
      ]
    },
    {
      "cell_type": "code",
      "metadata": {
        "colab": {
          "base_uri": "https://localhost:8080/"
        },
        "id": "QXch9H0gLBvx",
        "outputId": "3a4850b0-18f8-4022-e1e8-0800559e63db"
      },
      "source": [
        "r2 = (sst_sum - sse_sum)/sst_sum\n",
        "print(f'r2 score(without sklearn) :{r2}')"
      ],
      "execution_count": 56,
      "outputs": [
        {
          "output_type": "stream",
          "text": [
            "r2 score(without sklearn) :0.9454906892105355\n"
          ],
          "name": "stdout"
        }
      ]
    },
    {
      "cell_type": "markdown",
      "metadata": {
        "id": "-ZLsTRqrLGDm"
      },
      "source": [
        "**r2 score(using sklearn library)**"
      ]
    },
    {
      "cell_type": "code",
      "metadata": {
        "colab": {
          "base_uri": "https://localhost:8080/"
        },
        "id": "h4MEivzHLHa5",
        "outputId": "b864c120-8046-4361-aed5-9e26dbc27b75"
      },
      "source": [
        "r2_ = r2_score(y_test, test_pred)\n",
        "print(f'r2 score(using sklearn) :{r2_}')"
      ],
      "execution_count": 57,
      "outputs": [
        {
          "output_type": "stream",
          "text": [
            "r2 score(using sklearn) :0.9454906892105354\n"
          ],
          "name": "stdout"
        }
      ]
    },
    {
      "cell_type": "markdown",
      "metadata": {
        "id": "jItN3DdYLQ8u"
      },
      "source": [
        "\n",
        "\n",
        "---\n",
        "\n",
        "# Question : What will be the predicted score if a student studies for 9.25hrs/day?"
      ]
    },
    {
      "cell_type": "code",
      "metadata": {
        "colab": {
          "base_uri": "https://localhost:8080/"
        },
        "id": "rxcEw3tjLUqP",
        "outputId": "48dc7dbd-dd15-4ebf-f780-6e0e5eee4503"
      },
      "source": [
        "ans = lin_model.predict([[9.25]])\n",
        "print(f'Predicted score for a student who studied for 9.25hrs/day is :{ans}')"
      ],
      "execution_count": 58,
      "outputs": [
        {
          "output_type": "stream",
          "text": [
            "Predicted score for a student who studied for 9.25hrs/day is :[93.69173249]\n"
          ],
          "name": "stdout"
        }
      ]
    },
    {
      "cell_type": "markdown",
      "metadata": {
        "id": "l2DUHseuLXeu"
      },
      "source": [
        "From the above result we can say that if a student studied for **9.25 hours/day**, He/She will score **93.69 marks.**"
      ]
    }
  ]
}